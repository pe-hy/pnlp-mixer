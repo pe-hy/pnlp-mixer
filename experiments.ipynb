{
 "cells": [
  {
   "cell_type": "code",
   "execution_count": null,
   "metadata": {},
   "outputs": [],
   "source": [
    "import torch\n",
    "import pytorch_lightning as pl\n",
    "from omegaconf import OmegaConf\n",
    "from model import PnlpMixerSeqCls, PnlpMixerTokenCls\n",
    "from mixer import FFFTrainFixed\n",
    "from dataset import PnlpMixerDataModule\n",
    "from run import PnlpMixerSeqClsTrainModule, PnlpMixerTokenClsTrainModule\n",
    "import os\n",
    "os.environ['CUDA_VISIBLE_DEVICES'] = \"\"\n",
    "import time\n",
    "import torch.nn as nn"
   ]
  },
  {
   "cell_type": "code",
   "execution_count": null,
   "metadata": {},
   "outputs": [],
   "source": [
    "cfg = OmegaConf.load('cfg/imdb_base.yml')"
   ]
  },
  {
   "cell_type": "code",
   "execution_count": null,
   "metadata": {},
   "outputs": [],
   "source": [
    "checkpoint_path = 'to_cpp/ffft_256_4/model.ckpt'\n",
    "orig_module = PnlpMixerSeqClsTrainModule.load_from_checkpoint(\n",
    "    checkpoint_path,\n",
    "    optimizer_cfg=cfg.train.optimizer,\n",
    "    model_cfg=cfg.model\n",
    ")"
   ]
  },
  {
   "cell_type": "code",
   "execution_count": null,
   "metadata": {},
   "outputs": [],
   "source": [
    "import copy\n",
    "from FFF import FFFInference\n",
    "new_module = copy.deepcopy(orig_module)\n",
    "mlp_1_1 = orig_module.model.pnlp_mixer.mixer.mixers[0].mlp_1\n",
    "train_mlp_1_1 = FFFTrainFixed(mlp_1_1.input_width, mlp_1_1.output_width, 4,)\n",
    "mlp_1_2 = orig_module.model.pnlp_mixer.mixer.mixers[0].mlp_2\n",
    "train_mlp_1_2 = FFFTrainFixed(mlp_1_2.input_width, mlp_1_2.output_width, 4,)\n",
    "\n",
    "new_module.model.pnlp_mixer.mixer.mixers[0].mlp_1 = FFFInference(copy.deepcopy(train_mlp_1_1))\n",
    "new_module.model.pnlp_mixer.mixer.mixers[0].mlp_2 = FFFInference(copy.deepcopy(train_mlp_1_2))"
   ]
  },
  {
   "cell_type": "code",
   "execution_count": null,
   "metadata": {},
   "outputs": [],
   "source": [
    "class ThreeLayerFFFT(nn.Module):\n",
    "    def __init__(self, input_size, hidden_size, num_blocks):\n",
    "        super(ThreeLayerFFFT, self).__init__()\n",
    "        self.layer1 = FFFTrainFixed(input_size, hidden_size, num_blocks)\n",
    "        self.layer2 = FFFTrainFixed(input_size, hidden_size, num_blocks)\n",
    "        self.layer3 = FFFTrainFixed(input_size, hidden_size, num_blocks)\n",
    "\n",
    "    def forward(self, x):\n",
    "        x = self.layer1(x)\n",
    "        x = self.layer2(x)\n",
    "        x = self.layer3(x)\n",
    "        return x\n",
    "    \n",
    "three_layer_ffft = ThreeLayerFFFT(256, 128, 4)\n",
    "\n",
    "in_t = torch.rand(1024)\n",
    "\n",
    "three_layer_ffft.eval()\n",
    "\n",
    "with torch.no_grad():\n",
    "    start = time.time()\n",
    "    res = three_layer_ffft(in_t)\n",
    "    end = time.time()\n",
    "print(\"původní random three_layer_ffft\", end-start)\n",
    "\n",
    "single_layer = FFFInference(three_layer_ffft.layer2)\n",
    "three_layer_ffft.layer2 = single_layer\n",
    "\n",
    "with torch.no_grad():\n",
    "    start = time.time()\n",
    "    res = three_layer_ffft(in_t)\n",
    "    end = time.time()\n",
    "print(\"původní ffft znovu\", end-start)"
   ]
  }
 ],
 "metadata": {
  "language_info": {
   "name": "python"
  }
 },
 "nbformat": 4,
 "nbformat_minor": 2
}
