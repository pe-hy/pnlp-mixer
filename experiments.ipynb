{
 "cells": [
  {
   "cell_type": "code",
   "execution_count": 1,
   "metadata": {},
   "outputs": [
    {
     "name": "stderr",
     "output_type": "stream",
     "text": [
      "/mnt/raid/miniconda3/envs/to_cpp/lib/python3.7/site-packages/tqdm/auto.py:21: TqdmWarning: IProgress not found. Please update jupyter and ipywidgets. See https://ipywidgets.readthedocs.io/en/stable/user_install.html\n",
      "  from .autonotebook import tqdm as notebook_tqdm\n"
     ]
    }
   ],
   "source": [
    "import torch\n",
    "import pytorch_lightning as pl\n",
    "from omegaconf import OmegaConf\n",
    "from model import PnlpMixerSeqCls, PnlpMixerTokenCls\n",
    "from mixer import FFFTrainFixed\n",
    "from dataset import PnlpMixerDataModule\n",
    "from run import PnlpMixerSeqClsTrainModule, PnlpMixerTokenClsTrainModule\n",
    "import os\n",
    "os.environ['CUDA_VISIBLE_DEVICES'] = \"\"\n",
    "import time\n",
    "import torch.nn as nn"
   ]
  },
  {
   "cell_type": "code",
   "execution_count": 2,
   "metadata": {},
   "outputs": [
    {
     "data": {
      "text/plain": [
       "ThreeLayerFFFT(\n",
       "  (layer1): FFFTrainFixed(\n",
       "    (linear_in): Linear(in_features=2048, out_features=31, bias=False)\n",
       "    (linear_out): Linear(in_features=31, out_features=2048, bias=False)\n",
       "    (activation): GELU()\n",
       "  )\n",
       "  (layer2): FFFTrainFixed(\n",
       "    (linear_in): Linear(in_features=2048, out_features=31, bias=False)\n",
       "    (linear_out): Linear(in_features=31, out_features=2048, bias=False)\n",
       "    (activation): GELU()\n",
       "  )\n",
       "  (layer3): FFFTrainFixed(\n",
       "    (linear_in): Linear(in_features=2048, out_features=31, bias=False)\n",
       "    (linear_out): Linear(in_features=31, out_features=2048, bias=False)\n",
       "    (activation): GELU()\n",
       "  )\n",
       ")"
      ]
     },
     "execution_count": 2,
     "metadata": {},
     "output_type": "execute_result"
    }
   ],
   "source": [
    "from FFF import FFFInference\n",
    "class ThreeLayerFFFT(nn.Module):\n",
    "    def __init__(self, input_size, hidden_size, num_blocks):\n",
    "        super(ThreeLayerFFFT, self).__init__()\n",
    "        self.layer1 = FFFTrainFixed(input_size, hidden_size, num_blocks)\n",
    "        self.layer2 = FFFTrainFixed(input_size, hidden_size, num_blocks)\n",
    "        self.layer3 = FFFTrainFixed(input_size, hidden_size, num_blocks)\n",
    "\n",
    "    def forward(self, x):\n",
    "        x = self.layer1(x)\n",
    "        x = self.layer2(x)\n",
    "        x = self.layer3(x)\n",
    "        return x\n",
    "    \n",
    "three_layer_ffft = ThreeLayerFFFT(2048, 2048, 4).to(\"cpu\")\n",
    "\n",
    "in_t = torch.rand(2048).to(\"cpu\")\n",
    "\n",
    "three_layer_ffft.eval()\n",
    "\n",
    "# single_layer = FFFInference(three_layer_ffft.layer2)\n",
    "# three_layer_ffft.layer2 = single_layer\n",
    "# single_layer = FFFInference(three_layer_ffft.layer1)\n",
    "# three_layer_ffft.layer1 = single_layer\n",
    "# single_layer = FFFInference(three_layer_ffft.layer3)\n",
    "# three_layer_ffft.layer3 = single_layer\n",
    "\n",
    "# with torch.no_grad():\n",
    "#     start = time.time()\n",
    "#     res = three_layer_ffft(in_t)\n",
    "#     end = time.time()\n",
    "# print(\"původní ffft znovu\", end-start)"
   ]
  },
  {
   "cell_type": "code",
   "execution_count": 3,
   "metadata": {},
   "outputs": [],
   "source": [
    "%%timeit\n",
    "with torch.no_grad():\n",
    "    res = three_layer_ffft(in_t)"
   ]
  },
  {
   "cell_type": "code",
   "execution_count": null,
   "metadata": {},
   "outputs": [],
   "source": [
    "single_layer = FFFInference(three_layer_ffft.layer2)\n",
    "three_layer_ffft.layer2 = single_layer\n",
    "single_layer = FFFInference(three_layer_ffft.layer1)\n",
    "three_layer_ffft.layer1 = single_layer\n",
    "single_layer = FFFInference(three_layer_ffft.layer3)\n",
    "three_layer_ffft.layer3 = single_layer"
   ]
  },
  {
   "cell_type": "code",
   "execution_count": null,
   "metadata": {},
   "outputs": [
    {
     "name": "stdout",
     "output_type": "stream",
     "text": [
      "33.7 µs ± 203 ns per loop (mean ± std. dev. of 7 runs, 10000 loops each)\n"
     ]
    }
   ],
   "source": [
    "%%timeit\n",
    "with torch.no_grad():\n",
    "    res = three_layer_ffft(in_t)"
   ]
  },
  {
   "cell_type": "code",
   "execution_count": null,
   "metadata": {},
   "outputs": [],
   "source": []
  }
 ],
 "metadata": {
  "kernelspec": {
   "display_name": "to_cpp",
   "language": "python",
   "name": "python3"
  },
  "language_info": {
   "codemirror_mode": {
    "name": "ipython",
    "version": 3
   },
   "file_extension": ".py",
   "mimetype": "text/x-python",
   "name": "python",
   "nbconvert_exporter": "python",
   "pygments_lexer": "ipython3",
   "version": "3.7.12"
  }
 },
 "nbformat": 4,
 "nbformat_minor": 2
}
