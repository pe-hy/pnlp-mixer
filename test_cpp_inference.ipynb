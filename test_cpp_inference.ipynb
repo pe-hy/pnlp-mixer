{
 "cells": [
  {
   "cell_type": "code",
   "execution_count": 7,
   "metadata": {},
   "outputs": [],
   "source": [
    "import torch\n",
    "import pytorch_lightning as pl\n",
    "from omegaconf import OmegaConf\n",
    "from model import PnlpMixerSeqCls, PnlpMixerTokenCls\n",
    "from mixer import FFFTrainFixed\n",
    "from dataset import PnlpMixerDataModule\n",
    "from run import PnlpMixerSeqClsTrainModule, PnlpMixerTokenClsTrainModule\n",
    "import os\n",
    "os.environ['CUDA_VISIBLE_DEVICES'] = \"\"\n",
    "import time\n",
    "import torch.nn as nn"
   ]
  },
  {
   "cell_type": "code",
   "execution_count": 11,
   "metadata": {},
   "outputs": [
    {
     "name": "stdout",
     "output_type": "stream",
     "text": [
      "{'num_mixers': 2, 'max_seq_len': 1024, 'hidden_dim': 256, 'mlp_hidden_dim': 256}\n"
     ]
    },
    {
     "ename": "RuntimeError",
     "evalue": "Error(s) in loading state_dict for PnlpMixerSeqClsTrainModule:\n\tMissing key(s) in state_dict: \"model.pnlp_mixer.mixer.mixers.0.mlp_1.linear_out.weight\", \"model.pnlp_mixer.mixer.mixers.0.mlp_2.linear_out.weight\", \"model.pnlp_mixer.mixer.mixers.1.mlp_1.linear_out.weight\", \"model.pnlp_mixer.mixer.mixers.1.mlp_2.linear_out.weight\". ",
     "output_type": "error",
     "traceback": [
      "\u001b[0;31m---------------------------------------------------------------------------\u001b[0m",
      "\u001b[0;31mRuntimeError\u001b[0m                              Traceback (most recent call last)",
      "\u001b[0;32m/tmp/ipykernel_3409302/3690350154.py\u001b[0m in \u001b[0;36m<module>\u001b[0;34m\u001b[0m\n\u001b[1;32m     17\u001b[0m )\n\u001b[1;32m     18\u001b[0m \u001b[0;34m\u001b[0m\u001b[0m\n\u001b[0;32m---> 19\u001b[0;31m \u001b[0mmodule\u001b[0m\u001b[0;34m.\u001b[0m\u001b[0mload_state_dict\u001b[0m\u001b[0;34m(\u001b[0m\u001b[0mtorch\u001b[0m\u001b[0;34m.\u001b[0m\u001b[0mload\u001b[0m\u001b[0;34m(\u001b[0m\u001b[0;34m\"ffft_256_4_cpp.ckpt\"\u001b[0m\u001b[0;34m)\u001b[0m\u001b[0;34m)\u001b[0m\u001b[0;34m\u001b[0m\u001b[0;34m\u001b[0m\u001b[0m\n\u001b[0m\u001b[1;32m     20\u001b[0m \u001b[0;34m\u001b[0m\u001b[0m\n\u001b[1;32m     21\u001b[0m \u001b[0mmodule\u001b[0m\u001b[0;34m.\u001b[0m\u001b[0meval\u001b[0m\u001b[0;34m(\u001b[0m\u001b[0;34m)\u001b[0m\u001b[0;34m\u001b[0m\u001b[0;34m\u001b[0m\u001b[0m\n",
      "\u001b[0;32m/mnt/raid/miniconda3/envs/to_cpp/lib/python3.7/site-packages/torch/nn/modules/module.py\u001b[0m in \u001b[0;36mload_state_dict\u001b[0;34m(self, state_dict, strict)\u001b[0m\n\u001b[1;32m   1405\u001b[0m         \u001b[0;32mif\u001b[0m \u001b[0mlen\u001b[0m\u001b[0;34m(\u001b[0m\u001b[0merror_msgs\u001b[0m\u001b[0;34m)\u001b[0m \u001b[0;34m>\u001b[0m \u001b[0;36m0\u001b[0m\u001b[0;34m:\u001b[0m\u001b[0;34m\u001b[0m\u001b[0;34m\u001b[0m\u001b[0m\n\u001b[1;32m   1406\u001b[0m             raise RuntimeError('Error(s) in loading state_dict for {}:\\n\\t{}'.format(\n\u001b[0;32m-> 1407\u001b[0;31m                                self.__class__.__name__, \"\\n\\t\".join(error_msgs)))\n\u001b[0m\u001b[1;32m   1408\u001b[0m         \u001b[0;32mreturn\u001b[0m \u001b[0m_IncompatibleKeys\u001b[0m\u001b[0;34m(\u001b[0m\u001b[0mmissing_keys\u001b[0m\u001b[0;34m,\u001b[0m \u001b[0munexpected_keys\u001b[0m\u001b[0;34m)\u001b[0m\u001b[0;34m\u001b[0m\u001b[0;34m\u001b[0m\u001b[0m\n\u001b[1;32m   1409\u001b[0m \u001b[0;34m\u001b[0m\u001b[0m\n",
      "\u001b[0;31mRuntimeError\u001b[0m: Error(s) in loading state_dict for PnlpMixerSeqClsTrainModule:\n\tMissing key(s) in state_dict: \"model.pnlp_mixer.mixer.mixers.0.mlp_1.linear_out.weight\", \"model.pnlp_mixer.mixer.mixers.0.mlp_2.linear_out.weight\", \"model.pnlp_mixer.mixer.mixers.1.mlp_1.linear_out.weight\", \"model.pnlp_mixer.mixer.mixers.1.mlp_2.linear_out.weight\". "
     ]
    }
   ],
   "source": [
    "cfg = OmegaConf.load('cfg/imdb_base.yml')\n",
    "\n",
    "def get_module_cls(type: str): \n",
    "    if type == 'mtop': \n",
    "        return PnlpMixerTokenClsTrainModule\n",
    "    if type == 'matis' or type == 'imdb': \n",
    "        return PnlpMixerSeqClsTrainModule\n",
    "\n",
    "module_cls = get_module_cls(cfg.train.dataset_type)\n",
    "\n",
    "data_module = PnlpMixerDataModule(cfg.vocab, cfg.train, cfg.model.projection)\n",
    "data_module.setup('test')\n",
    "\n",
    "module = module_cls(\n",
    "    optimizer_cfg=cfg.train.optimizer,\n",
    "    model_cfg=cfg.model\n",
    ")\n",
    "\n",
    "module.load_state_dict(torch.load(\"ffft_256_4_cpp.ckpt\"))\n",
    "\n",
    "module.eval()\n",
    "\n",
    "test_dataloader = data_module.test_dataloader()\n",
    "\n",
    "batch = next(iter(test_dataloader))\n",
    "\n",
    "device = next(module.parameters()).device\n",
    "batch = {k: v.to(device) for k, v in batch.items()}"
   ]
  },
  {
   "cell_type": "code",
   "execution_count": null,
   "metadata": {},
   "outputs": [],
   "source": [
    "with torch.no_grad():\n",
    "    start = time.time()\n",
    "    logits = train_module.model(batch['inputs'])\n",
    "    end = time.time()\n",
    "    predictions = torch.argmax(logits, dim=1)\n",
    "\n",
    "for i, (pred, target) in enumerate(zip(predictions, batch['targets'])):\n",
    "    predicted_label = cfg.train.labels[pred.item()]\n",
    "    true_label = cfg.train.labels[target.item()]\n",
    "    # print(f\"Sample {i}:\")\n",
    "    # print(f\"  Predicted: {predicted_label}\")\n",
    "    # print(f\"  Actual: {true_label}\")\n",
    "    # print()\n",
    "\n",
    "accuracy = (predictions == batch['targets']).float().mean()\n",
    "print(f\"Batch Accuracy: {accuracy.item():.4f}\")\n",
    "print(f\"Time: {end-start}\")"
   ]
  }
 ],
 "metadata": {
  "kernelspec": {
   "display_name": "to_cpp",
   "language": "python",
   "name": "python3"
  },
  "language_info": {
   "codemirror_mode": {
    "name": "ipython",
    "version": 3
   },
   "file_extension": ".py",
   "mimetype": "text/x-python",
   "name": "python",
   "nbconvert_exporter": "python",
   "pygments_lexer": "ipython3",
   "version": "3.7.12"
  }
 },
 "nbformat": 4,
 "nbformat_minor": 2
}
